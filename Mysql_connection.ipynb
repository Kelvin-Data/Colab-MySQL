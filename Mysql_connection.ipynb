{
  "nbformat": 4,
  "nbformat_minor": 0,
  "metadata": {
    "colab": {
      "private_outputs": true,
      "provenance": [],
      "authorship_tag": "ABX9TyMffr9a37TsFo8pEVXRSAQL",
      "include_colab_link": true
    },
    "kernelspec": {
      "name": "python3",
      "display_name": "Python 3"
    },
    "language_info": {
      "name": "python"
    }
  },
  "cells": [
    {
      "cell_type": "markdown",
      "metadata": {
        "id": "view-in-github",
        "colab_type": "text"
      },
      "source": [
        "<a href=\"https://colab.research.google.com/github/Kelvin-Data/Colab-MySQL/blob/main/Mysql_connection.ipynb\" target=\"_parent\"><img src=\"https://colab.research.google.com/assets/colab-badge.svg\" alt=\"Open In Colab\"/></a>"
      ]
    },
    {
      "cell_type": "markdown",
      "source": [
        "Download the dependecies"
      ],
      "metadata": {
        "id": "zC8GkgWfT3yU"
      }
    },
    {
      "cell_type": "code",
      "execution_count": null,
      "metadata": {
        "id": "-LJ9Lu-FTYLb"
      },
      "outputs": [],
      "source": [
        "!apt update\n",
        "!apt install -y mysql-server mysql-client"
      ]
    },
    {
      "cell_type": "markdown",
      "source": [
        "Create Directory"
      ],
      "metadata": {
        "id": "9tC3gx_6Th4I"
      }
    },
    {
      "cell_type": "code",
      "source": [
        "!mkdir -p /nonexistent"
      ],
      "metadata": {
        "id": "NwSJ3JqmTiS2"
      },
      "execution_count": null,
      "outputs": []
    },
    {
      "cell_type": "markdown",
      "source": [
        "Start App"
      ],
      "metadata": {
        "id": "Ar_WKXpZT9bK"
      }
    },
    {
      "cell_type": "code",
      "source": [
        "!/etc/init.d/mysql start"
      ],
      "metadata": {
        "id": "H0zsbuYQT9tz"
      },
      "execution_count": null,
      "outputs": []
    },
    {
      "cell_type": "markdown",
      "source": [
        "Run App"
      ],
      "metadata": {
        "id": "Qb29C9hHUIh-"
      }
    },
    {
      "cell_type": "code",
      "source": [
        "!mysql -u root -p"
      ],
      "metadata": {
        "id": "nLkmCt16UMeS"
      },
      "execution_count": null,
      "outputs": []
    }
  ]
}